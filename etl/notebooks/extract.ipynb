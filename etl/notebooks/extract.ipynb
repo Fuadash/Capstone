{
 "cells": [
  {
   "cell_type": "code",
   "execution_count": null,
   "id": "ca63f712",
   "metadata": {},
   "outputs": [
    {
     "name": "stdout",
     "output_type": "stream",
     "text": [
      "hello world\n",
      "PostgreSQL version: PostgreSQL 16.8 on x86_64-pc-linux-gnu, compiled by gcc (GCC) 7.3.1 20180712 (Red Hat 7.3.1-17), 64-bit\n"
     ]
    }
   ],
   "source": [
    "print(\"hello world\")\n",
    "\n",
    "from sqlalchemy import create_engine, text\n",
    "\n",
    "def get_connection_url() -> str:\n",
    "    \"\"\"Builds a PostgreSQL connection URL for SQLAlchemy.\"\"\"\n",
    "    return (\n",
    "        \"some working credentials\"\n",
    "    )\n",
    "\n",
    "url = get_connection_url()\n",
    "\n",
    "\n",
    "\n",
    "# 3. Create SQLAlchemy engine\n",
    "engine = create_engine(url)\n",
    "\n",
    "# 4. Test the connection\n",
    "with engine.connect() as conn:\n",
    "    result = conn.execute(text(\"SELECT version();\"))\n",
    "    print(\"PostgreSQL version:\", result.scalar())\n",
    "\n"
   ]
  }
 ],
 "metadata": {
  "kernelspec": {
   "display_name": "Python 3",
   "language": "python",
   "name": "python3"
  },
  "language_info": {
   "codemirror_mode": {
    "name": "ipython",
    "version": 3
   },
   "file_extension": ".py",
   "mimetype": "text/x-python",
   "name": "python",
   "nbconvert_exporter": "python",
   "pygments_lexer": "ipython3",
   "version": "3.13.5"
  }
 },
 "nbformat": 4,
 "nbformat_minor": 5
}
